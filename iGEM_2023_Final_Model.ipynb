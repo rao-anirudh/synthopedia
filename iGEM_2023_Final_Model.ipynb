{
  "nbformat": 4,
  "nbformat_minor": 0,
  "metadata": {
    "colab": {
      "provenance": []
    },
    "kernelspec": {
      "name": "python3",
      "display_name": "Python 3"
    },
    "language_info": {
      "name": "python"
    }
  },
  "cells": [
    {
      "cell_type": "markdown",
      "metadata": {
        "id": "7hMPbI2qrGcv"
      },
      "source": [
        "# Environment Setup"
      ]
    },
    {
      "cell_type": "markdown",
      "metadata": {
        "id": "onLHtJ8l9FiQ"
      },
      "source": [
        "We will require a Conda environment in order to import the `ViennaRNA` library created by [Lorenz et al. (2011)](https://doi.org/10.1186/1748-7188-6-26)."
      ]
    },
    {
      "cell_type": "code",
      "execution_count": 1,
      "metadata": {
        "collapsed": true,
        "id": "Q-N2KXLkJvF9",
        "colab": {
          "base_uri": "https://localhost:8080/"
        },
        "outputId": "c44d427e-b42b-43c3-e39d-fa3111c56bc6"
      },
      "outputs": [
        {
          "output_type": "stream",
          "name": "stdout",
          "text": [
            "⏬ Downloading https://github.com/conda-forge/miniforge/releases/download/23.1.0-1/Mambaforge-23.1.0-1-Linux-x86_64.sh...\n",
            "📦 Installing...\n",
            "📌 Adjusting configuration...\n",
            "🩹 Patching environment...\n",
            "⏲ Done in 0:00:24\n",
            "🔁 Restarting kernel...\n"
          ]
        }
      ],
      "source": [
        "!pip install -q condacolab\n",
        "import condacolab\n",
        "condacolab.install()"
      ]
    },
    {
      "cell_type": "markdown",
      "metadata": {
        "id": "hjA5R-rA9S-D"
      },
      "source": [
        "With the Conda environment now installed, we can install the `ViennaRNA` library.\n",
        "\n",
        "**NOTE**: Colab will crash after this install. Run the subsequent cells manually by clicking an appropriate option under the **Runtime** menu."
      ]
    },
    {
      "cell_type": "code",
      "execution_count": 2,
      "metadata": {
        "colab": {
          "base_uri": "https://localhost:8080/"
        },
        "collapsed": true,
        "id": "Y7FKMGKwKKYP",
        "outputId": "8357636f-a3e3-4bc0-ab60-31a0b42c0b45"
      },
      "outputs": [
        {
          "output_type": "stream",
          "name": "stdout",
          "text": [
            "Collecting package metadata (current_repodata.json): - \b\b\\ \b\b| \b\b/ \b\b- \b\b\\ \b\b| \b\b/ \b\b- \b\b\\ \b\b| \b\b/ \b\b- \b\b\\ \b\b| \b\b/ \b\b- \b\b\\ \b\b| \b\b/ \b\b- \b\b\\ \b\b| \b\b/ \b\b- \b\b\\ \b\b| \b\b/ \b\b- \b\b\\ \b\b| \b\b/ \b\b- \b\b\\ \b\b| \b\b/ \b\b- \b\b\\ \b\b| \b\b/ \b\b- \b\b\\ \b\b| \b\b/ \b\b- \b\b\\ \b\b| \b\b/ \b\b- \b\b\\ \b\b| \b\b/ \b\b- \b\b\\ \b\b| \b\b/ \b\b- \b\b\\ \b\b| \b\b/ \b\b- \b\b\\ \b\b| \b\b/ \b\b- \b\b\\ \b\b| \b\b/ \b\b- \b\b\\ \b\b| \b\b/ \b\b- \b\b\\ \b\b| \b\b/ \b\b- \b\b\\ \b\b| \b\b/ \b\b- \b\b\\ \b\b| \b\b/ \b\b- \b\b\\ \b\b| \b\b/ \b\b- \b\b\\ \b\b| \b\b/ \b\b- \b\b\\ \b\b| \b\b/ \b\b- \b\b\\ \b\b| \b\b/ \b\b- \b\b\\ \b\b| \b\b/ \b\b- \b\b\\ \b\b| \b\b/ \b\b- \b\b\\ \b\b| \b\b/ \b\b- \b\b\\ \b\b| \b\b/ \b\b- \b\b\\ \b\b| \b\b/ \b\b- \b\b\\ \b\b| \b\b/ \b\b- \b\b\\ \b\b| \b\b/ \b\b- \b\b\\ \b\b| \b\b/ \b\b- \b\b\\ \b\b| \b\b/ \b\b- \b\b\\ \b\b| \b\b/ \b\b- \b\b\\ \b\b| \b\b/ \b\b- \b\b\\ \b\b| \b\b/ \b\b- \b\b\\ \b\b| \b\b/ \b\b- \b\b\\ \b\b| \b\b/ \b\b- \b\b\\ \b\b| \b\b/ \b\b- \b\b\\ \b\b| \b\b/ \b\b- \b\b\\ \b\b| \b\b/ \b\b- \b\b\\ \b\b| \b\b/ \b\b- \b\b\\ \b\b| \b\b/ \b\b- \b\b\\ \b\b| \b\b/ \b\b- \b\b\\ \b\b| \b\b/ \b\b- \b\b\\ \b\b| \b\b/ \b\b- \b\b\\ \b\b| \b\b/ \b\b- \b\b\\ \b\b| \b\b/ \b\b- \b\b\\ \b\b| \b\b/ \b\b- \b\b\\ \b\b| \b\b/ \b\b- \b\b\\ \b\b| \b\b/ \b\b- \b\b\\ \b\b| \b\b/ \b\b- \b\b\\ \b\b| \b\b/ \b\b- \b\b\\ \b\b| \b\b/ \b\b- \b\b\\ \b\b| \b\b/ \b\b- \b\b\\ \b\b| \b\b/ \b\b- \b\b\\ \b\b| \b\b/ \b\b- \b\b\\ \b\b| \b\b/ \b\b- \b\b\\ \b\b| \b\b/ \b\b- \b\b\\ \b\b| \b\b/ \b\b- \b\b\\ \b\b| \b\b/ \b\b- \b\b\\ \b\b| \b\b/ \b\bdone\n",
            "Solving environment: \\ \b\b| \b\b/ \b\b- \b\b\\ \b\b| \b\b/ \b\b- \b\b\\ \b\b| \b\b/ \b\b- \b\b\\ \b\b| \b\b/ \b\b- \b\bdone\n",
            "\n",
            "\n",
            "==> WARNING: A newer version of conda exists. <==\n",
            "  current version: 23.1.0\n",
            "  latest version: 23.5.0\n",
            "\n",
            "Please update conda by running\n",
            "\n",
            "    $ conda update -n base -c conda-forge conda\n",
            "\n",
            "Or to minimize the number of packages updated during conda update use\n",
            "\n",
            "     conda install conda=23.5.0\n",
            "\n",
            "\n",
            "\n",
            "## Package Plan ##\n",
            "\n",
            "  environment location: /usr/local\n",
            "\n",
            "  added / updated specs:\n",
            "    - viennarna\n",
            "\n",
            "\n",
            "The following packages will be downloaded:\n",
            "\n",
            "    package                    |            build\n",
            "    ---------------------------|-----------------\n",
            "    ca-certificates-2023.5.7   |       hbcca054_0         145 KB  conda-forge\n",
            "    certifi-2023.5.7           |     pyhd8ed1ab_0         149 KB  conda-forge\n",
            "    openssl-3.1.1              |       hd590300_1         2.5 MB  conda-forge\n",
            "    perl-5.32.1                | 2_h7f98852_perl5        14.4 MB  conda-forge\n",
            "    viennarna-2.6.2            |py310pl5321h6cc9453_0        17.6 MB  bioconda\n",
            "    ------------------------------------------------------------\n",
            "                                           Total:        34.8 MB\n",
            "\n",
            "The following NEW packages will be INSTALLED:\n",
            "\n",
            "  perl               conda-forge/linux-64::perl-5.32.1-2_h7f98852_perl5 \n",
            "  viennarna          bioconda/linux-64::viennarna-2.6.2-py310pl5321h6cc9453_0 \n",
            "\n",
            "The following packages will be UPDATED:\n",
            "\n",
            "  ca-certificates                      2022.12.7-ha878542_0 --> 2023.5.7-hbcca054_0 \n",
            "  certifi                            2022.12.7-pyhd8ed1ab_0 --> 2023.5.7-pyhd8ed1ab_0 \n",
            "  openssl                                  3.1.0-h0b41bf4_0 --> 3.1.1-hd590300_1 \n",
            "\n",
            "\n",
            "\n",
            "Downloading and Extracting Packages\n",
            "certifi-2023.5.7     | 149 KB    | :   0% 0/1 [00:00<?, ?it/s]\n",
            "viennarna-2.6.2      | 17.6 MB   | :   0% 0/1 [00:00<?, ?it/s]\u001b[A\n",
            "\n",
            "ca-certificates-2023 | 145 KB    | :   0% 0/1 [00:00<?, ?it/s]\u001b[A\u001b[A\n",
            "\n",
            "\n",
            "perl-5.32.1          | 14.4 MB   | :   0% 0/1 [00:00<?, ?it/s]\u001b[A\u001b[A\u001b[A\n",
            "\n",
            "\n",
            "\n",
            "certifi-2023.5.7     | 149 KB    | :  11% 0.10751855521941424/1 [00:00<00:01,  1.16s/it]\n",
            "\n",
            "\n",
            "\n",
            "openssl-3.1.1        | 2.5 MB    | :   1% 0.006200398045572774/1 [00:00<00:22, 22.29s/it]\u001b[A\u001b[A\u001b[A\u001b[A\n",
            "\n",
            "\n",
            "certifi-2023.5.7     | 149 KB    | : 100% 1.0/1 [00:00<00:00,  1.16s/it]                \n",
            "\n",
            "ca-certificates-2023 | 145 KB    | :  11% 0.1104340792666487/1 [00:00<00:01,  1.57s/it]\u001b[A\u001b[A\n",
            "viennarna-2.6.2      | 17.6 MB   | :   0% 0.000887634440671384/1 [00:00<03:26, 206.44s/it]\u001b[A\n",
            "\n",
            "\n",
            "\n",
            "openssl-3.1.1        | 2.5 MB    | :  73% 0.7316469693775873/1 [00:00<00:00,  3.66it/s]  \u001b[A\u001b[A\u001b[A\u001b[A\n",
            "\n",
            "ca-certificates-2023 | 145 KB    | : 100% 1.0/1 [00:00<00:00,  1.57s/it]               \u001b[A\u001b[A\n",
            "\n",
            "\n",
            "perl-5.32.1          | 14.4 MB   | :  15% 0.15085201085584216/1 [00:00<00:01,  1.38s/it]   \u001b[A\u001b[A\u001b[A\n",
            "viennarna-2.6.2      | 17.6 MB   | :  13% 0.1278193594566793/1 [00:00<00:01,  1.81s/it]   \u001b[A\n",
            "\n",
            "\n",
            "perl-5.32.1          | 14.4 MB   | :  42% 0.4243391096736279/1 [00:00<00:00,  1.54it/s] \u001b[A\u001b[A\u001b[A\n",
            "viennarna-2.6.2      | 17.6 MB   | :  31% 0.3071215164722989/1 [00:00<00:00,  1.03it/s]\u001b[A\n",
            "\n",
            "\n",
            "perl-5.32.1          | 14.4 MB   | :  65% 0.6489892265596662/1 [00:00<00:00,  1.80it/s]\u001b[A\u001b[A\u001b[A\n",
            "viennarna-2.6.2      | 17.6 MB   | :  49% 0.4908618456912754/1 [00:00<00:00,  1.31it/s]\u001b[A\n",
            "\n",
            "\n",
            "perl-5.32.1          | 14.4 MB   | :  91% 0.9127089289911025/1 [00:00<00:00,  2.09it/s]\u001b[A\u001b[A\u001b[A\n",
            "viennarna-2.6.2      | 17.6 MB   | :  79% 0.792657555519546/1 [00:00<00:00,  1.88it/s] \u001b[A\n",
            "\n",
            "\n",
            "\n",
            "openssl-3.1.1        | 2.5 MB    | : 100% 1.0/1 [00:00<00:00,  3.66it/s]               \u001b[A\u001b[A\u001b[A\u001b[A\n",
            "viennarna-2.6.2      | 17.6 MB   | : 100% 1.0/1 [00:08<00:00, 14.05s/it]              \u001b[A\n",
            "viennarna-2.6.2      | 17.6 MB   | : 100% 1.0/1 [00:08<00:00, 14.05s/it]\u001b[A\n",
            "\n",
            "\n",
            "                                                                        \n",
            "                                                                        \u001b[A\n",
            "\n",
            "                                                                        \u001b[A\u001b[A\n",
            "\n",
            "\n",
            "                                                                        \u001b[A\u001b[A\u001b[A\n",
            "\n",
            "\n",
            "\n",
            "                                                                        \u001b[A\u001b[A\u001b[A\u001b[A\n",
            "Preparing transaction: | \b\b/ \b\bdone\n",
            "Verifying transaction: \\ \b\b| \b\b/ \b\b- \b\b\\ \b\b| \b\b/ \b\b- \b\b\\ \b\b| \b\b/ \b\b- \b\b\\ \b\bdone\n",
            "Executing transaction: / \b\b- \b\b\\ \b\b| \b\b/ \b\b- \b\b\\ \b\b| \b\b/ \b\b- \b\b\\ \b\b| \b\b/ \b\b- \b\b\\ \b\b| \b\b/ \b\b- \b\b\\ \b\b| \b\b/ \b\b- \b\b\\ \b\b| \b\b/ \b\b- \b\bdone\n"
          ]
        }
      ],
      "source": [
        "!conda install -c bioconda viennarna"
      ]
    },
    {
      "cell_type": "markdown",
      "metadata": {
        "id": "Y2DY-Uqe-w-g"
      },
      "source": [
        "# Imports"
      ]
    },
    {
      "cell_type": "code",
      "source": [
        "import RNA\n",
        "import numpy as np\n",
        "import pandas as pd\n",
        "import matplotlib.pyplot as plt"
      ],
      "metadata": {
        "id": "88xdKObTZ8yZ"
      },
      "execution_count": 1,
      "outputs": []
    },
    {
      "cell_type": "markdown",
      "metadata": {
        "id": "oW2VJSA7_MHj"
      },
      "source": [
        "# Functions"
      ]
    },
    {
      "cell_type": "markdown",
      "metadata": {
        "id": "0HUFvQcO_zRs"
      },
      "source": [
        "The `find_hybridization_energy` function takes in two RNA sequences and returns their hybridization energy."
      ]
    },
    {
      "cell_type": "code",
      "execution_count": 2,
      "metadata": {
        "id": "DDE8lY0J-NP7"
      },
      "outputs": [],
      "source": [
        "def find_hybridization_energy(sequence1, sequence2, temp):\n",
        "\n",
        "    RNA.cvar.temperature = temp\n",
        "\n",
        "    # First, we concatenate the two RNA sequences using the '&' symbol\n",
        "    hybrid_sequence = RNA.fold_compound(f\"{sequence1}&{sequence2}\")\n",
        "\n",
        "    # Finally, we use the ViennaRNA library's inbuilt mfe_dimer function to compute the hybridization energy\n",
        "    structure, energy = hybrid_sequence.mfe_dimer()\n",
        "\n",
        "    return energy"
      ]
    },
    {
      "cell_type": "markdown",
      "metadata": {
        "id": "HaJarVoiGvUt"
      },
      "source": [
        "The `complement` function returns the complementary RNA for a given RNA input."
      ]
    },
    {
      "cell_type": "code",
      "execution_count": 3,
      "metadata": {
        "id": "ac6fkvYd4Pip"
      },
      "outputs": [],
      "source": [
        "def complement(RNA):\n",
        "\n",
        "  complement = complement = \"\".join(['A' if base == 'U' else 'U' if base == 'A' else 'C' if base == 'G' else 'G' if base == 'C' else base for base in RNA])\n",
        "\n",
        "  return complement"
      ]
    },
    {
      "cell_type": "markdown",
      "source": [
        "# Dataset for model building"
      ],
      "metadata": {
        "id": "hMan7KO0TUeB"
      }
    },
    {
      "cell_type": "markdown",
      "metadata": {
        "id": "2ceihmHw-3Zr"
      },
      "source": [
        "We load a dataset containing mRNA sequences and their experimentally found expression levels to building our model. This dataset is from [Espah Borujeni and Salis (2016)](https://doi.org/10.1021/jacs.6b01453), which contains 485 mRNA sequences that were tested in different organisms. As an addendum to this dataset, we have included 35 more mRNA sequences from [Hecht et al. (2017)](https://doi.org/10.1093%2Fnar%2Fgkx070) to train our model on sequences with unconventional start codons.\n",
        "\n",
        "**NOTE**: Any datasets will have to be loaded manually every time. Google Colab does not store the files permanently."
      ]
    },
    {
      "cell_type": "code",
      "execution_count": 4,
      "metadata": {
        "id": "aojlt_68Y6Le"
      },
      "outputs": [],
      "source": [
        "df = pd.read_csv(\"/Dataset - Model Training.csv\")"
      ]
    },
    {
      "cell_type": "code",
      "source": [
        "df.head()"
      ],
      "metadata": {
        "id": "9o6kGXAqdmdb",
        "colab": {
          "base_uri": "https://localhost:8080/",
          "height": 461
        },
        "outputId": "a86ac529-94b3-4696-a68d-163d6c4d55c8"
      },
      "execution_count": 5,
      "outputs": [
        {
          "output_type": "execute_result",
          "data": {
            "text/plain": [
              "                                Reference Reporter       Bacterial species  \\\n",
              "0  Salis et al. 2009 Nature Biotechnology    mRFP1  Escherichia coli DH10B   \n",
              "1  Salis et al. 2009 Nature Biotechnology    mRFP1  Escherichia coli DH10B   \n",
              "2  Salis et al. 2009 Nature Biotechnology    mRFP1  Escherichia coli DH10B   \n",
              "3  Salis et al. 2009 Nature Biotechnology    mRFP1  Escherichia coli DH10B   \n",
              "4  Salis et al. 2009 Nature Biotechnology    mRFP1  Escherichia coli DH10B   \n",
              "\n",
              "  Gram stain  Temperature       rRNA  \\\n",
              "0   Negative           37  ACCTCCTTA   \n",
              "1   Negative           37  ACCTCCTTA   \n",
              "2   Negative           37  ACCTCCTTA   \n",
              "3   Negative           37  ACCTCCTTA   \n",
              "4   Negative           37  ACCTCCTTA   \n",
              "\n",
              "                                                 RBS  \\\n",
              "0             TTCTAGATTAGGCCTGATCTAAGCCATTAACTTTAGTT   \n",
              "1  TTCTAGACCAGTCGCGTACCGCTATTGGTCCAGCTACAATGGCTGA...   \n",
              "2                        TTCTAGATTCTAaaggaggAGTCCGGG   \n",
              "3                      TTCTAGAAAAGGAAGTAAAGGGGATATTA   \n",
              "4         TTCTAGACGTAAATAACAATTCATTCAGTCTGAAGCTAATCA   \n",
              "\n",
              "                                                 CDS  Mean expression  \n",
              "0  ATGGCTGAAGCGCAAAACGATCCCCTGGCGAGCTCTgaagacgtta...             0.30  \n",
              "1  CTGGCGAGCTCTgaagacgttatcaaagagttcatgcgtttcaaag...             1.12  \n",
              "2  ATGGCTGAAGCGCAAAATGATCCCCTGATGGCGAGCTCTgaagacg...          3457.99  \n",
              "3  ATGGCTGAAGCGCAAAACGATCCCGCCGCGAGCTCTgaagacgtta...          5200.80  \n",
              "4  ATGGCTGAAGCGCAAAACGATCCCCTGGCGAGCTCTgaagacgtta...             9.03  "
            ],
            "text/html": [
              "\n",
              "  <div id=\"df-52363bb9-597c-4bdb-b4dd-989ffb816697\">\n",
              "    <div class=\"colab-df-container\">\n",
              "      <div>\n",
              "<style scoped>\n",
              "    .dataframe tbody tr th:only-of-type {\n",
              "        vertical-align: middle;\n",
              "    }\n",
              "\n",
              "    .dataframe tbody tr th {\n",
              "        vertical-align: top;\n",
              "    }\n",
              "\n",
              "    .dataframe thead th {\n",
              "        text-align: right;\n",
              "    }\n",
              "</style>\n",
              "<table border=\"1\" class=\"dataframe\">\n",
              "  <thead>\n",
              "    <tr style=\"text-align: right;\">\n",
              "      <th></th>\n",
              "      <th>Reference</th>\n",
              "      <th>Reporter</th>\n",
              "      <th>Bacterial species</th>\n",
              "      <th>Gram stain</th>\n",
              "      <th>Temperature</th>\n",
              "      <th>rRNA</th>\n",
              "      <th>RBS</th>\n",
              "      <th>CDS</th>\n",
              "      <th>Mean expression</th>\n",
              "    </tr>\n",
              "  </thead>\n",
              "  <tbody>\n",
              "    <tr>\n",
              "      <th>0</th>\n",
              "      <td>Salis et al. 2009 Nature Biotechnology</td>\n",
              "      <td>mRFP1</td>\n",
              "      <td>Escherichia coli DH10B</td>\n",
              "      <td>Negative</td>\n",
              "      <td>37</td>\n",
              "      <td>ACCTCCTTA</td>\n",
              "      <td>TTCTAGATTAGGCCTGATCTAAGCCATTAACTTTAGTT</td>\n",
              "      <td>ATGGCTGAAGCGCAAAACGATCCCCTGGCGAGCTCTgaagacgtta...</td>\n",
              "      <td>0.30</td>\n",
              "    </tr>\n",
              "    <tr>\n",
              "      <th>1</th>\n",
              "      <td>Salis et al. 2009 Nature Biotechnology</td>\n",
              "      <td>mRFP1</td>\n",
              "      <td>Escherichia coli DH10B</td>\n",
              "      <td>Negative</td>\n",
              "      <td>37</td>\n",
              "      <td>ACCTCCTTA</td>\n",
              "      <td>TTCTAGACCAGTCGCGTACCGCTATTGGTCCAGCTACAATGGCTGA...</td>\n",
              "      <td>CTGGCGAGCTCTgaagacgttatcaaagagttcatgcgtttcaaag...</td>\n",
              "      <td>1.12</td>\n",
              "    </tr>\n",
              "    <tr>\n",
              "      <th>2</th>\n",
              "      <td>Salis et al. 2009 Nature Biotechnology</td>\n",
              "      <td>mRFP1</td>\n",
              "      <td>Escherichia coli DH10B</td>\n",
              "      <td>Negative</td>\n",
              "      <td>37</td>\n",
              "      <td>ACCTCCTTA</td>\n",
              "      <td>TTCTAGATTCTAaaggaggAGTCCGGG</td>\n",
              "      <td>ATGGCTGAAGCGCAAAATGATCCCCTGATGGCGAGCTCTgaagacg...</td>\n",
              "      <td>3457.99</td>\n",
              "    </tr>\n",
              "    <tr>\n",
              "      <th>3</th>\n",
              "      <td>Salis et al. 2009 Nature Biotechnology</td>\n",
              "      <td>mRFP1</td>\n",
              "      <td>Escherichia coli DH10B</td>\n",
              "      <td>Negative</td>\n",
              "      <td>37</td>\n",
              "      <td>ACCTCCTTA</td>\n",
              "      <td>TTCTAGAAAAGGAAGTAAAGGGGATATTA</td>\n",
              "      <td>ATGGCTGAAGCGCAAAACGATCCCGCCGCGAGCTCTgaagacgtta...</td>\n",
              "      <td>5200.80</td>\n",
              "    </tr>\n",
              "    <tr>\n",
              "      <th>4</th>\n",
              "      <td>Salis et al. 2009 Nature Biotechnology</td>\n",
              "      <td>mRFP1</td>\n",
              "      <td>Escherichia coli DH10B</td>\n",
              "      <td>Negative</td>\n",
              "      <td>37</td>\n",
              "      <td>ACCTCCTTA</td>\n",
              "      <td>TTCTAGACGTAAATAACAATTCATTCAGTCTGAAGCTAATCA</td>\n",
              "      <td>ATGGCTGAAGCGCAAAACGATCCCCTGGCGAGCTCTgaagacgtta...</td>\n",
              "      <td>9.03</td>\n",
              "    </tr>\n",
              "  </tbody>\n",
              "</table>\n",
              "</div>\n",
              "      <button class=\"colab-df-convert\" onclick=\"convertToInteractive('df-52363bb9-597c-4bdb-b4dd-989ffb816697')\"\n",
              "              title=\"Convert this dataframe to an interactive table.\"\n",
              "              style=\"display:none;\">\n",
              "        \n",
              "  <svg xmlns=\"http://www.w3.org/2000/svg\" height=\"24px\"viewBox=\"0 0 24 24\"\n",
              "       width=\"24px\">\n",
              "    <path d=\"M0 0h24v24H0V0z\" fill=\"none\"/>\n",
              "    <path d=\"M18.56 5.44l.94 2.06.94-2.06 2.06-.94-2.06-.94-.94-2.06-.94 2.06-2.06.94zm-11 1L8.5 8.5l.94-2.06 2.06-.94-2.06-.94L8.5 2.5l-.94 2.06-2.06.94zm10 10l.94 2.06.94-2.06 2.06-.94-2.06-.94-.94-2.06-.94 2.06-2.06.94z\"/><path d=\"M17.41 7.96l-1.37-1.37c-.4-.4-.92-.59-1.43-.59-.52 0-1.04.2-1.43.59L10.3 9.45l-7.72 7.72c-.78.78-.78 2.05 0 2.83L4 21.41c.39.39.9.59 1.41.59.51 0 1.02-.2 1.41-.59l7.78-7.78 2.81-2.81c.8-.78.8-2.07 0-2.86zM5.41 20L4 18.59l7.72-7.72 1.47 1.35L5.41 20z\"/>\n",
              "  </svg>\n",
              "      </button>\n",
              "      \n",
              "  <style>\n",
              "    .colab-df-container {\n",
              "      display:flex;\n",
              "      flex-wrap:wrap;\n",
              "      gap: 12px;\n",
              "    }\n",
              "\n",
              "    .colab-df-convert {\n",
              "      background-color: #E8F0FE;\n",
              "      border: none;\n",
              "      border-radius: 50%;\n",
              "      cursor: pointer;\n",
              "      display: none;\n",
              "      fill: #1967D2;\n",
              "      height: 32px;\n",
              "      padding: 0 0 0 0;\n",
              "      width: 32px;\n",
              "    }\n",
              "\n",
              "    .colab-df-convert:hover {\n",
              "      background-color: #E2EBFA;\n",
              "      box-shadow: 0px 1px 2px rgba(60, 64, 67, 0.3), 0px 1px 3px 1px rgba(60, 64, 67, 0.15);\n",
              "      fill: #174EA6;\n",
              "    }\n",
              "\n",
              "    [theme=dark] .colab-df-convert {\n",
              "      background-color: #3B4455;\n",
              "      fill: #D2E3FC;\n",
              "    }\n",
              "\n",
              "    [theme=dark] .colab-df-convert:hover {\n",
              "      background-color: #434B5C;\n",
              "      box-shadow: 0px 1px 3px 1px rgba(0, 0, 0, 0.15);\n",
              "      filter: drop-shadow(0px 1px 2px rgba(0, 0, 0, 0.3));\n",
              "      fill: #FFFFFF;\n",
              "    }\n",
              "  </style>\n",
              "\n",
              "      <script>\n",
              "        const buttonEl =\n",
              "          document.querySelector('#df-52363bb9-597c-4bdb-b4dd-989ffb816697 button.colab-df-convert');\n",
              "        buttonEl.style.display =\n",
              "          google.colab.kernel.accessAllowed ? 'block' : 'none';\n",
              "\n",
              "        async function convertToInteractive(key) {\n",
              "          const element = document.querySelector('#df-52363bb9-597c-4bdb-b4dd-989ffb816697');\n",
              "          const dataTable =\n",
              "            await google.colab.kernel.invokeFunction('convertToInteractive',\n",
              "                                                     [key], {});\n",
              "          if (!dataTable) return;\n",
              "\n",
              "          const docLinkHtml = 'Like what you see? Visit the ' +\n",
              "            '<a target=\"_blank\" href=https://colab.research.google.com/notebooks/data_table.ipynb>data table notebook</a>'\n",
              "            + ' to learn more about interactive tables.';\n",
              "          element.innerHTML = '';\n",
              "          dataTable['output_type'] = 'display_data';\n",
              "          await google.colab.output.renderOutput(dataTable, element);\n",
              "          const docLink = document.createElement('div');\n",
              "          docLink.innerHTML = docLinkHtml;\n",
              "          element.appendChild(docLink);\n",
              "        }\n",
              "      </script>\n",
              "    </div>\n",
              "  </div>\n",
              "  "
            ]
          },
          "metadata": {},
          "execution_count": 5
        }
      ]
    },
    {
      "cell_type": "markdown",
      "source": [
        "We will have to perform the following data preprocessing tasks:\n",
        "\n",
        "*   Convert all sequences to uppercase\n",
        "*   Replace thymine with uracil in all sequences\n",
        "*   Convert the expression level to a logarithmic scale"
      ],
      "metadata": {
        "id": "h4TY3fKgdyDZ"
      }
    },
    {
      "cell_type": "code",
      "source": [
        "df[\"rRNA\"] = df[\"rRNA\"].apply(lambda x: x.upper().replace(\"T\",\"U\"))\n",
        "df[\"RBS\"] = df[\"RBS\"].apply(lambda x: x.upper().replace(\"T\",\"U\"))\n",
        "df[\"CDS\"] = df[\"CDS\"].apply(lambda x: x.upper().replace(\"T\",\"U\"))"
      ],
      "metadata": {
        "id": "jMTqbnyYeRQr"
      },
      "execution_count": 6,
      "outputs": []
    },
    {
      "cell_type": "code",
      "source": [
        "df[\"Mean expression\"] = df[\"Mean expression\"].apply(lambda x: np.log10(x))"
      ],
      "metadata": {
        "id": "rXkX3Owpfpi1"
      },
      "execution_count": 7,
      "outputs": []
    },
    {
      "cell_type": "markdown",
      "metadata": {
        "id": "fW44X3Gp8N2F"
      },
      "source": [
        "# 16S rRNA binding"
      ]
    },
    {
      "cell_type": "markdown",
      "metadata": {
        "id": "Z1_srYmk8Rxq"
      },
      "source": [
        "We have to understand how many nucleotides of the 16S rRNA actually bind to the RBS."
      ]
    },
    {
      "cell_type": "code",
      "source": [
        "def bind_rRNA(rRNA,rbs,temp):\n",
        "\n",
        "  RNA.cvar.temperature = temp\n",
        "  min_energy = 0\n",
        "\n",
        "  for i in range(len(rbs)-len(rRNA)+1):\n",
        "    energy = find_hybridization_energy(rRNA,rbs[i:i+len(rRNA)],temp)\n",
        "\n",
        "    if energy < min_energy:\n",
        "      min_energy = energy\n",
        "\n",
        "  return abs(min_energy)"
      ],
      "metadata": {
        "id": "ExJwho1Miib3"
      },
      "execution_count": 8,
      "outputs": []
    },
    {
      "cell_type": "code",
      "source": [
        "bind_rRNA = np.vectorize(bind_rRNA)"
      ],
      "metadata": {
        "id": "BGLEPS6CjRRH"
      },
      "execution_count": 9,
      "outputs": []
    },
    {
      "cell_type": "code",
      "source": [
        "for i in range(4,10):\n",
        "\n",
        "  df[\"rRNA sequence\"] = df[\"rRNA\"].apply(lambda x: x[-i:])\n",
        "  df[\"Binding energy\"] = bind_rRNA(df[\"rRNA sequence\"],df[\"RBS\"],df[\"Temperature\"])\n",
        "  corr = np.corrcoef(df[\"Mean expression\"],df[\"Binding energy\"])[0][1]\n",
        "  print(f\"{i} - {corr}\")\n",
        "  df = df.drop([\"rRNA sequence\",\"Binding energy\"],axis=1)"
      ],
      "metadata": {
        "id": "NeZCdElejW_Z",
        "colab": {
          "base_uri": "https://localhost:8080/"
        },
        "outputId": "1d4bffd1-d49f-472f-c0a6-742cc76c05f1"
      },
      "execution_count": 10,
      "outputs": [
        {
          "output_type": "stream",
          "name": "stdout",
          "text": [
            "4 - -0.02765671693470437\n",
            "5 - 0.5315189677575385\n",
            "6 - 0.5796943070545431\n",
            "7 - 0.5992334410997078\n",
            "8 - 0.6053720976375483\n",
            "9 - 0.5930324210199045\n"
          ]
        }
      ]
    },
    {
      "cell_type": "markdown",
      "source": [
        "We get the highest correlation with expression level when we consider the binding of the last **8 nucleotides** of the 16S rRNA. This is consistent with the findings of [Yusupova et al. (2001)](https://doi.org/10.1016/S0092-8674(01)00435-4)"
      ],
      "metadata": {
        "id": "VJCHFRpYl5bs"
      }
    },
    {
      "cell_type": "code",
      "source": [
        "df[\"rRNA\"] = df[\"rRNA\"].apply(lambda x: x[-8:])"
      ],
      "metadata": {
        "id": "-OMJm5YCtTXC"
      },
      "execution_count": 11,
      "outputs": []
    },
    {
      "cell_type": "markdown",
      "source": [
        "# Effect of spacing"
      ],
      "metadata": {
        "id": "8gab4UpPUPmC"
      }
    },
    {
      "cell_type": "markdown",
      "source": [
        "The spacing between the Shine-Dalgarno sequence and the start codon also influences the rate of translation. Any deviation from the optimal spacing will result in a lower efficiency.\n",
        "\n",
        "[Vellanoweth and Rabinowitz (1992)](https://doi.org/10.1111/j.1365-2958.1992.tb01548.x) found that the optimal spacing differs in Gram-positive and Gram-negative bacteria. It is 9 nucleotides in Gram-positives and 7 nucleotides in Gram-negatives. They also found that Gram-positive bacteria are better at translation when the spacing is longer, but Gram-negative bacteria can tolerate shorter spacings better.\n",
        "\n",
        "To account for the effect of spacing, we will penalise non-optimal spacing using a **Gaussian-like** distribution. We will also take into account the findings of Vellanoweth and Rabinowitz while designing this penalty term."
      ],
      "metadata": {
        "id": "5A3wDRgMUfZu"
      }
    },
    {
      "cell_type": "code",
      "source": [
        "def find_spacing(rRNA,rbs,temp,gram):\n",
        "\n",
        "  RNA.cvar.temperature = temp\n",
        "  min_energy = 0\n",
        "  sd = \"\"\n",
        "  best_spacing = 0\n",
        "\n",
        "  for i in range(len(rbs)-len(rRNA)+1):\n",
        "\n",
        "    energy = find_hybridization_energy(rRNA,rbs[i:i+len(rRNA)],temp)\n",
        "    spacing = len(rbs[i+len(rRNA):])\n",
        "    penalty = 1\n",
        "\n",
        "    if gram == \"Positive\":\n",
        "      opt_spacing = 9\n",
        "      if spacing < opt_spacing:\n",
        "        penalty = np.exp(-0.5*(((spacing - opt_spacing)**2)/1))                   # Punishing lower spacing more for Gram-positives\n",
        "      elif spacing > opt_spacing:\n",
        "        penalty = np.exp(-0.5*(((spacing - opt_spacing)**2)/2))\n",
        "    elif gram == \"Negative\":\n",
        "      opt_spacing = 7\n",
        "      if spacing < opt_spacing:\n",
        "        penalty = np.exp(-0.5*(((spacing - opt_spacing)**2)/2))\n",
        "      elif spacing > opt_spacing:\n",
        "        penalty = np.exp(-0.5*(((spacing - opt_spacing)**2)/1))                   # Punishing higher spacing more for Gram-negatives\n",
        "\n",
        "    energy = energy * penalty\n",
        "\n",
        "    if energy <= min_energy:\n",
        "      min_energy = energy\n",
        "      sd = rbs[i:i+len(rRNA)]\n",
        "      best_spacing = spacing\n",
        "\n",
        "  return find_hybridization_energy(rRNA,sd,temp), sd, best_spacing"
      ],
      "metadata": {
        "id": "NdIn96w4t-uU"
      },
      "execution_count": 12,
      "outputs": []
    },
    {
      "cell_type": "code",
      "source": [
        "find_spacing = np.vectorize(find_spacing)"
      ],
      "metadata": {
        "id": "mRI0pOrHucQm"
      },
      "execution_count": 13,
      "outputs": []
    },
    {
      "cell_type": "code",
      "source": [
        "df[\"Binding energy\"], df[\"Shine-Dalgarno\"], df[\"Spacing\"] = find_spacing(df[\"rRNA\"],df[\"RBS\"],df[\"Temperature\"],df[\"Gram stain\"])"
      ],
      "metadata": {
        "id": "EDtrv7Rr08X7"
      },
      "execution_count": 14,
      "outputs": []
    },
    {
      "cell_type": "markdown",
      "source": [
        "We can see that there is a good correlation between the binding energy and the expression level. Stronger binding leads to higher expression."
      ],
      "metadata": {
        "id": "qrMt2zIk3542"
      }
    },
    {
      "cell_type": "code",
      "source": [
        "np.corrcoef(df[\"Mean expression\"],abs(df[\"Binding energy\"]))[0][1]"
      ],
      "metadata": {
        "id": "RQrFig508Kar",
        "colab": {
          "base_uri": "https://localhost:8080/"
        },
        "outputId": "0c82bad6-62e7-45fb-c883-57b410502ba2"
      },
      "execution_count": 15,
      "outputs": [
        {
          "output_type": "execute_result",
          "data": {
            "text/plain": [
              "0.6124047560447049"
            ]
          },
          "metadata": {},
          "execution_count": 15
        }
      ]
    },
    {
      "cell_type": "code",
      "source": [
        "plt.scatter(df[\"Binding energy\"],df[\"Mean expression\"])\n",
        "plt.xlabel(\"Binding energy\")\n",
        "plt.ylabel(\"Mean expression\");"
      ],
      "metadata": {
        "id": "5xo4e54o29TE",
        "colab": {
          "base_uri": "https://localhost:8080/",
          "height": 449
        },
        "outputId": "89da0ac0-de17-4117-ec4d-d807a747ae79"
      },
      "execution_count": 16,
      "outputs": [
        {
          "output_type": "display_data",
          "data": {
            "text/plain": [
              "<Figure size 640x480 with 1 Axes>"
            ],
            "image/png": "[encoded data removed]"
          },
          "metadata": {}
        }
      ]
    },
    {
      "cell_type": "markdown",
      "source": [
        "The most frequently occurring Shine-Dalgarno sequence appears to be `UAAGGAGG`. This is consistent with [existing literature](https://doi.org/10.1073/pnas.71.4.1342)."
      ],
      "metadata": {
        "id": "CtKatAu34Huk"
      }
    },
    {
      "cell_type": "code",
      "source": [
        "df[\"Shine-Dalgarno\"].mode()"
      ],
      "metadata": {
        "id": "IiWnLmcX1JwF",
        "colab": {
          "base_uri": "https://localhost:8080/"
        },
        "outputId": "cfef3666-cb8b-4cb0-9146-89f05e15a8e8"
      },
      "execution_count": 17,
      "outputs": [
        {
          "output_type": "execute_result",
          "data": {
            "text/plain": [
              "0    UAAGGAGG\n",
              "Name: Shine-Dalgarno, dtype: object"
            ]
          },
          "metadata": {},
          "execution_count": 17
        }
      ]
    },
    {
      "cell_type": "markdown",
      "source": [
        "We can see that spacings close to the optimum give rise to higher expressions, on average."
      ],
      "metadata": {
        "id": "VR_JbuuE6Zas"
      }
    },
    {
      "cell_type": "code",
      "source": [
        "df.groupby(\"Spacing\").mean(numeric_only=True)[\"Mean expression\"].nlargest(3)"
      ],
      "metadata": {
        "id": "ZO3Jai853V23",
        "colab": {
          "base_uri": "https://localhost:8080/"
        },
        "outputId": "fe12e84d-c851-4cdf-b9d6-8a5b6e8f5a24"
      },
      "execution_count": 18,
      "outputs": [
        {
          "output_type": "execute_result",
          "data": {
            "text/plain": [
              "Spacing\n",
              "6    3.447819\n",
              "7    3.087722\n",
              "8    3.077621\n",
              "Name: Mean expression, dtype: float64"
            ]
          },
          "metadata": {},
          "execution_count": 18
        }
      ]
    },
    {
      "cell_type": "markdown",
      "source": [
        "We can also see that extreme spacings give rise to lower expressions, on average."
      ],
      "metadata": {
        "id": "8BS-WPLC_teT"
      }
    },
    {
      "cell_type": "code",
      "source": [
        "df.groupby(\"Spacing\").mean(numeric_only=True)[\"Mean expression\"].nsmallest(3)"
      ],
      "metadata": {
        "id": "Fy_L347e_iWN",
        "colab": {
          "base_uri": "https://localhost:8080/"
        },
        "outputId": "e9a4a63e-8634-4277-adeb-d547ec31b7bb"
      },
      "execution_count": 19,
      "outputs": [
        {
          "output_type": "execute_result",
          "data": {
            "text/plain": [
              "Spacing\n",
              "11   -0.522879\n",
              "2     0.617000\n",
              "19    0.623249\n",
              "Name: Mean expression, dtype: float64"
            ]
          },
          "metadata": {},
          "execution_count": 19
        }
      ]
    },
    {
      "cell_type": "markdown",
      "source": [
        "However, when the spacing is optimum, other factors can still play a role in determining the overall translation efficiency. This can be seen from the range of expression levels even with optimal spacing."
      ],
      "metadata": {
        "id": "2vOfywfp6ogn"
      }
    },
    {
      "cell_type": "code",
      "source": [
        "plt.scatter(df[\"Spacing\"],df[\"Mean expression\"])\n",
        "plt.xlabel(\"Spacing\")\n",
        "plt.ylabel(\"Mean expression\");"
      ],
      "metadata": {
        "id": "TCPIpR-u3gIw",
        "colab": {
          "base_uri": "https://localhost:8080/",
          "height": 449
        },
        "outputId": "56ad7ef0-9bc9-4de6-b894-f04a020e4161"
      },
      "execution_count": 20,
      "outputs": [
        {
          "output_type": "display_data",
          "data": {
            "text/plain": [
              "<Figure size 640x480 with 1 Axes>"
            ],
            "image/png": "[encoded data removed]"
          },
          "metadata": {}
        }
      ]
    },
    {
      "cell_type": "markdown",
      "metadata": {
        "id": "SCFydYVbd_wH"
      },
      "source": [
        "# Effect of S1 ribosomal protein"
      ]
    },
    {
      "cell_type": "markdown",
      "metadata": {
        "id": "VUXxVlVreEij"
      },
      "source": [
        "[Komarova et al. (2005)](https://doi.org/10.1128/jb.187.4.1344-1349.2005) found that the S1 protein present in the ribosome's 30S subunit interacts with A/U-rich sequences upstream of the Shine-Dalgarno site. This interaction is believed to protect the mRNA from degradation by RNAses, which also use A/U-rich sequences as recognition sites. The insertion of A/U-rich elements upstream of the Shine-Dalgarno sequence enhances translation efficiency.\n",
        "\n",
        "X-ray crystallographic studies by [Sengupta et al. (2001)](https://doi.org/10.1073%2Fpnas.211266898) found that the S1 protein interacts with 11 nucleotides upstream of the Shine-Dalgarno sequence.\n",
        "\n",
        "To quantify this interaction, we simply calculate the number of adenine and uracil nucleotides in the mRNA's putative region of interaction with the S1 protein."
      ]
    },
    {
      "cell_type": "code",
      "source": [
        "def find_au_score(rbs,sd):\n",
        "\n",
        "    sd_loc = rbs.index(sd)\n",
        "    upstream = rbs[sd_loc-11 : sd_loc]\n",
        "\n",
        "    au_score = upstream.count(\"A\") + upstream.count(\"U\")\n",
        "\n",
        "    if len(upstream) == 0:\n",
        "      return 0\n",
        "    else:\n",
        "      return au_score / len(upstream)"
      ],
      "metadata": {
        "id": "5wy1M6wsCSRc"
      },
      "execution_count": 21,
      "outputs": []
    },
    {
      "cell_type": "code",
      "source": [
        "find_au_score = np.vectorize(find_au_score)"
      ],
      "metadata": {
        "id": "T-VxTqfeCfqh"
      },
      "execution_count": 22,
      "outputs": []
    },
    {
      "cell_type": "code",
      "source": [
        "df[\"AU score\"] = find_au_score(df[\"RBS\"],df[\"Shine-Dalgarno\"])"
      ],
      "metadata": {
        "id": "6wM29w6iCig9"
      },
      "execution_count": 23,
      "outputs": []
    },
    {
      "cell_type": "markdown",
      "source": [
        "We can see that mRNAs with higher A/U scores tend to have higher expression levels, on average."
      ],
      "metadata": {
        "id": "SHAWrw6OCyk_"
      }
    },
    {
      "cell_type": "code",
      "source": [
        "df.groupby(\"AU score\").mean(numeric_only=True)[\"Mean expression\"].nlargest(3)"
      ],
      "metadata": {
        "id": "Na-Ec_oCCmoj",
        "colab": {
          "base_uri": "https://localhost:8080/"
        },
        "outputId": "5bdfcd8c-2346-4aaf-a22b-64aa94d183cc"
      },
      "execution_count": 24,
      "outputs": [
        {
          "output_type": "execute_result",
          "data": {
            "text/plain": [
              "AU score\n",
              "1.000000    4.114012\n",
              "0.909091    3.788629\n",
              "0.727273    3.723766\n",
              "Name: Mean expression, dtype: float64"
            ]
          },
          "metadata": {},
          "execution_count": 24
        }
      ]
    },
    {
      "cell_type": "code",
      "source": [
        "df.groupby(\"AU score\").mean(numeric_only=True)[\"Mean expression\"].nsmallest(3)"
      ],
      "metadata": {
        "id": "zpFDWW8k6mpd",
        "colab": {
          "base_uri": "https://localhost:8080/"
        },
        "outputId": "0c63c1be-261c-4a46-93b6-3f9324fabfb7"
      },
      "execution_count": 25,
      "outputs": [
        {
          "output_type": "execute_result",
          "data": {
            "text/plain": [
              "AU score\n",
              "0.000000    2.513312\n",
              "0.545455    2.612632\n",
              "0.636364    2.788639\n",
              "Name: Mean expression, dtype: float64"
            ]
          },
          "metadata": {},
          "execution_count": 25
        }
      ]
    },
    {
      "cell_type": "markdown",
      "metadata": {
        "id": "YWHDeQnVlufs"
      },
      "source": [
        "# Regional folding of the mRNA"
      ]
    },
    {
      "cell_type": "markdown",
      "metadata": {
        "id": "sw-cQHxKl0qK"
      },
      "source": [
        "The region of the mRNA containing the RBS can transiently fold and unfold. The ribosome can only bind to the RBS if it is accessible. This means that the region surrounding the RBS should be free of secondary structures, or if secondary structures are present, they should be easily removable (i.e., lesser work required to unfold them).\n",
        "\n",
        "[Hüttenhofer and Noller (1994)](https://doi.org/10.1002%2Fj.1460-2075.1994.tb06700.x) found that the 30S subunit interacts with 54-57 nucleotides of the mRNA. We will consider this region, centered around the start codon, while determining its accessibility. We crudely quantify the accessibility by considering the number of paired and unpaired nucleotides in the secondary structure of the region under consideration."
      ]
    },
    {
      "cell_type": "code",
      "source": [
        "def find_accessibility_score(rbs,cds,sd,temp):\n",
        "\n",
        "  RNA.cvar.temperature = temp\n",
        "\n",
        "  sd_loc = rbs.index(sd)\n",
        "\n",
        "  upstream = rbs[-27:]\n",
        "  downstream = cds[:54-len(upstream)]\n",
        "\n",
        "  structure, fold_energy = RNA.fold(upstream + downstream)\n",
        "\n",
        "  loop_count = structure.count(\".\")                                               # Number of unpaired nucleotides\n",
        "  stack_count = structure.count(\"(\") + structure.count(\")\")                       # Number of paired nucleotides\n",
        "\n",
        "  accessibility_score = loop_count / (loop_count + stack_count)\n",
        "\n",
        "  return structure, accessibility_score, fold_energy"
      ],
      "metadata": {
        "id": "fUWOmOJkLUev"
      },
      "execution_count": 26,
      "outputs": []
    },
    {
      "cell_type": "code",
      "source": [
        "find_accessibility_score = np.vectorize(find_accessibility_score)"
      ],
      "metadata": {
        "id": "qjdUULiTLzYP"
      },
      "execution_count": 27,
      "outputs": []
    },
    {
      "cell_type": "code",
      "source": [
        "df[\"Structure\"], df[\"Accessibility score\"], df[\"Folding energy\"] = find_accessibility_score(df[\"RBS\"],df[\"CDS\"],df[\"Shine-Dalgarno\"],df[\"Temperature\"])"
      ],
      "metadata": {
        "id": "JyiFXBEkL2ik"
      },
      "execution_count": 28,
      "outputs": []
    },
    {
      "cell_type": "markdown",
      "source": [
        "We can see that a higher accessibility score leads to higher expression levels, on average."
      ],
      "metadata": {
        "id": "Wyoc5oTaNdSo"
      }
    },
    {
      "cell_type": "code",
      "source": [
        "df[df[\"Accessibility score\"] <= df[\"Accessibility score\"].describe()[\"25%\"]].mean(numeric_only=True)[\"Mean expression\"]"
      ],
      "metadata": {
        "id": "IcKArpofMPRh",
        "colab": {
          "base_uri": "https://localhost:8080/"
        },
        "outputId": "8462262a-051f-4649-8774-611bdc455d6b"
      },
      "execution_count": 29,
      "outputs": [
        {
          "output_type": "execute_result",
          "data": {
            "text/plain": [
              "2.4485686844042025"
            ]
          },
          "metadata": {},
          "execution_count": 29
        }
      ]
    },
    {
      "cell_type": "code",
      "source": [
        "df[df[\"Accessibility score\"] >= df[\"Accessibility score\"].describe()[\"75%\"]].mean(numeric_only=True)[\"Mean expression\"]"
      ],
      "metadata": {
        "id": "5j9yWzsuM2qh",
        "colab": {
          "base_uri": "https://localhost:8080/"
        },
        "outputId": "f72f5bb6-6cc5-4296-99e8-adf66d446000"
      },
      "execution_count": 30,
      "outputs": [
        {
          "output_type": "execute_result",
          "data": {
            "text/plain": [
              "3.8523290805380643"
            ]
          },
          "metadata": {},
          "execution_count": 30
        }
      ]
    },
    {
      "cell_type": "markdown",
      "source": [
        "We can also see that having a higher folding energy (i.e., lesser work required for unfolding) also leads to higher expression levels."
      ],
      "metadata": {
        "id": "AA_upCsYOZ9o"
      }
    },
    {
      "cell_type": "code",
      "source": [
        "np.corrcoef(df[\"Mean expression\"],df[\"Folding energy\"])[0][1]"
      ],
      "metadata": {
        "id": "1Je5ofqgV7Yl",
        "colab": {
          "base_uri": "https://localhost:8080/"
        },
        "outputId": "61a98453-2394-4167-eacd-af515ba099d4"
      },
      "execution_count": 31,
      "outputs": [
        {
          "output_type": "execute_result",
          "data": {
            "text/plain": [
              "0.5840578740444917"
            ]
          },
          "metadata": {},
          "execution_count": 31
        }
      ]
    },
    {
      "cell_type": "code",
      "source": [
        "plt.scatter(df[\"Folding energy\"],df[\"Mean expression\"])\n",
        "plt.xlabel(\"Folding energy\")\n",
        "plt.ylabel(\"Mean expression\");"
      ],
      "metadata": {
        "id": "jUZiCoY3OMfQ",
        "colab": {
          "base_uri": "https://localhost:8080/",
          "height": 449
        },
        "outputId": "80b4b309-1642-4787-f6be-e8ad910b1af1"
      },
      "execution_count": 32,
      "outputs": [
        {
          "output_type": "display_data",
          "data": {
            "text/plain": [
              "<Figure size 640x480 with 1 Axes>"
            ],
            "image/png": "[encoded data removed]"
          },
          "metadata": {}
        }
      ]
    },
    {
      "cell_type": "markdown",
      "source": [
        "# Standby sites"
      ],
      "metadata": {
        "id": "abUwtXnIQLut"
      }
    },
    {
      "cell_type": "markdown",
      "source": [
        "If the RBS is transiently folded, the ribosome may bind to standby sites upstream of the Shine-Dalgarno sequence (See: [de Smit and van Duin (2003)](https://doi.org/10.1016/S0022-2836(03)00809-X)). This site has to be easily accessible to the ribosome. Thus, it should have minimal secondary structure formation."
      ],
      "metadata": {
        "id": "Mv_Bj7VmQNmv"
      }
    },
    {
      "cell_type": "code",
      "source": [
        "def find_standby_score(rbs,structure):\n",
        "\n",
        "  upstream = rbs[-27:]\n",
        "  upstream_structure = structure[-27:]\n",
        "  rRNA_length = 8\n",
        "\n",
        "  if len(upstream_structure) != 0:\n",
        "\n",
        "    upstream = upstream[::-1]\n",
        "    upstream_structure = upstream_structure[::-1]\n",
        "\n",
        "    best_gap = 0\n",
        "    best_accessibility = 0\n",
        "\n",
        "    for i in range(len(upstream)-rRNA_length+1):\n",
        "\n",
        "      gap = i+rRNA_length\n",
        "      loop_count = upstream_structure[i:i+rRNA_length].count(\".\")\n",
        "      stack_count = upstream_structure[i:i+rRNA_length].count(\"(\") + upstream_structure[i:i+rRNA_length].count(\")\")\n",
        "      accessibility = loop_count / (loop_count + stack_count)\n",
        "\n",
        "      if accessibility > best_accessibility:\n",
        "        best_gap = gap\n",
        "        best_accessibility = accessibility\n",
        "\n",
        "    return best_gap, best_accessibility\n",
        "\n",
        "  else:\n",
        "\n",
        "    return 0,0"
      ],
      "metadata": {
        "id": "f1AXvLhKRFfi"
      },
      "execution_count": 33,
      "outputs": []
    },
    {
      "cell_type": "code",
      "source": [
        "find_standby_score = np.vectorize(find_standby_score)"
      ],
      "metadata": {
        "id": "rJiMYVv1WKBC"
      },
      "execution_count": 34,
      "outputs": []
    },
    {
      "cell_type": "code",
      "source": [
        "df[\"Standby gap\"], df[\"Standby accessibility\"] = find_standby_score(df[\"RBS\"],df[\"Structure\"])"
      ],
      "metadata": {
        "id": "bAcjgCQoWOT4"
      },
      "execution_count": 35,
      "outputs": []
    },
    {
      "cell_type": "markdown",
      "source": [
        "We can see that more accessible standby sites have a higher expression level than less accessible standby sites."
      ],
      "metadata": {
        "id": "EpHslRd2Yc2k"
      }
    },
    {
      "cell_type": "code",
      "source": [
        "df[df[\"Standby accessibility\"] <= df[\"Standby accessibility\"].describe()[\"25%\"]].mean(numeric_only=True)[\"Mean expression\"]"
      ],
      "metadata": {
        "id": "jt2i15GpYTdt",
        "colab": {
          "base_uri": "https://localhost:8080/"
        },
        "outputId": "d7f7d3c3-439f-4820-964b-27fba7009336"
      },
      "execution_count": 36,
      "outputs": [
        {
          "output_type": "execute_result",
          "data": {
            "text/plain": [
              "2.6358491825677226"
            ]
          },
          "metadata": {},
          "execution_count": 36
        }
      ]
    },
    {
      "cell_type": "code",
      "source": [
        "df[df[\"Standby accessibility\"] >= df[\"Standby accessibility\"].describe()[\"75%\"]].mean(numeric_only=True)[\"Mean expression\"]"
      ],
      "metadata": {
        "id": "ak7W5kmZYTdt",
        "colab": {
          "base_uri": "https://localhost:8080/"
        },
        "outputId": "488275a5-c84c-4378-ace8-e7d504c91363"
      },
      "execution_count": 37,
      "outputs": [
        {
          "output_type": "execute_result",
          "data": {
            "text/plain": [
              "3.3233743435765963"
            ]
          },
          "metadata": {},
          "execution_count": 37
        }
      ]
    },
    {
      "cell_type": "markdown",
      "source": [
        "# Effect of start codon"
      ],
      "metadata": {
        "id": "QU6XIloJhEDQ"
      }
    },
    {
      "cell_type": "markdown",
      "source": [
        "The start codon in the coding sequence can also influence translation efficiency. [Hecht et al. (2017)](https://doi.org/10.1093%2Fnar%2Fgkx070) characterized the strengths of the 64 possible start codons. Using their experimental data, we develop a scoring system for the different start codons."
      ],
      "metadata": {
        "id": "Z1dquMdCvyaX"
      }
    },
    {
      "cell_type": "code",
      "source": [
        "codon_scores = {\"AGC\":0,\"CCG\":0.78,\"CAG\":0.95,\"UGC\":1.01,\"CUC\":1.1,\"UCC\":1.1,\"CCC\":1.17,\"UAG\":1.19,\"CGG\":1.2,\"CUU\":1.21,\"CCU\":1.26,\"UUC\":1.29,\"CCA\":1.3,\"UAC\":1.3,\"CGC\":1.31,\"UCU\":1.32,\"ACC\":1.32,\"ACA\":1.33,\"CGU\":1.33,\"GCC\":1.33,\"CUA\":1.34,\"AAC\":1.37,\"CAC\":1.41,\"UCA\":1.41,\"AAA\":1.43,\"GCU\":1.45,\"AGU\":1.46,\"UAA\":1.47,\"GGC\":1.48,\"AGA\":1.51,\"UUU\":1.54,\"GAC\":1.54,\"AAG\":1.56,\"ACU\":1.56,\"UGA\":1.56,\"UGU\":1.59,\"CAA\":1.59,\"GUC\":1.61,\"GCA\":1.64,\"UGG\":1.66,\"CGA\":1.69,\"AGG\":1.71,\"GGA\":1.71,\"GGU\":1.71,\"GAG\":1.72,\"UUA\":1.72,\"UCG\":1.78,\"GGG\":1.79,\"GCG\":1.84,\"ACG\":1.88,\"GAU\":1.92,\"AAU\":1.93,\"GAA\":2.02,\"GUU\":2.1,\"GUA\":2.11,\"UAU\":2.16,\"CAU\":2.17,\"AUC\":2.41,\"AUU\":2.57,\"CUG\":2.63,\"AUA\":2.73,\"UUG\":4.18,\"GUG\":4.22,\"AUG\":4.3}"
      ],
      "metadata": {
        "id": "CDLbAQNelOqa"
      },
      "execution_count": 38,
      "outputs": []
    },
    {
      "cell_type": "code",
      "source": [
        "def find_codon_score(cds):\n",
        "\n",
        "  codon = cds[:3]\n",
        "  codon_score = codon_scores[codon]\n",
        "\n",
        "  return codon_score"
      ],
      "metadata": {
        "id": "QbSeQAtptsoC"
      },
      "execution_count": 39,
      "outputs": []
    },
    {
      "cell_type": "code",
      "source": [
        "df[\"Codon score\"] = df[\"CDS\"].apply(find_codon_score)"
      ],
      "metadata": {
        "id": "5e6CBg281uLY"
      },
      "execution_count": 40,
      "outputs": []
    },
    {
      "cell_type": "markdown",
      "source": [
        "We can see that when the codon score is lesser than 4, the expression level reduces."
      ],
      "metadata": {
        "id": "WmtjYaDs1BBN"
      }
    },
    {
      "cell_type": "code",
      "source": [
        "plt.scatter(df[\"Codon score\"],df[\"Mean expression\"])\n",
        "plt.xlabel(\"Codon score\")\n",
        "plt.ylabel(\"Mean expression\");"
      ],
      "metadata": {
        "id": "rB43J_Od0zPu",
        "colab": {
          "base_uri": "https://localhost:8080/",
          "height": 449
        },
        "outputId": "04e4fdbb-7783-46b0-8fc5-b4965fa40bcf"
      },
      "execution_count": 41,
      "outputs": [
        {
          "output_type": "display_data",
          "data": {
            "text/plain": [
              "<Figure size 640x480 with 1 Axes>"
            ],
            "image/png": "[encoded data removed]"
          },
          "metadata": {}
        }
      ]
    },
    {
      "cell_type": "markdown",
      "source": [
        "We have now completed the necessary feature engineering for the dataset. We can now train our model."
      ],
      "metadata": {
        "id": "vQCvIqdnZLiy"
      }
    },
    {
      "cell_type": "markdown",
      "source": [
        "# Model training"
      ],
      "metadata": {
        "id": "2w9JlYnGZhkZ"
      }
    },
    {
      "cell_type": "markdown",
      "source": [
        "First, we split the data into features and labels."
      ],
      "metadata": {
        "id": "aQxeULvHrx2k"
      }
    },
    {
      "cell_type": "code",
      "source": [
        "X = df[[\"Binding energy\",\"Spacing\",\"AU score\",\"Accessibility score\",\"Folding energy\",\"Standby gap\",\"Standby accessibility\",\"Codon score\"]]\n",
        "y = df[\"Mean expression\"]"
      ],
      "metadata": {
        "id": "li66xj8fZppq"
      },
      "execution_count": 42,
      "outputs": []
    },
    {
      "cell_type": "markdown",
      "source": [
        "Then, we split the data into a training test and a test set."
      ],
      "metadata": {
        "id": "35c512SCr2Iv"
      }
    },
    {
      "cell_type": "code",
      "source": [
        "from sklearn.model_selection import train_test_split"
      ],
      "metadata": {
        "id": "cT65LRF5r8E2"
      },
      "execution_count": 43,
      "outputs": []
    },
    {
      "cell_type": "code",
      "source": [
        "X_train, X_test, y_train, y_test = train_test_split(X, y, test_size=0.2, random_state=23)"
      ],
      "metadata": {
        "id": "yJ83eES2r5uh"
      },
      "execution_count": 44,
      "outputs": []
    },
    {
      "cell_type": "markdown",
      "source": [
        "We can then train our model."
      ],
      "metadata": {
        "id": "0x9b3utysCWR"
      }
    },
    {
      "cell_type": "code",
      "source": [
        "from sklearn.ensemble import RandomForestRegressor"
      ],
      "metadata": {
        "id": "ANASZ1nksEEJ"
      },
      "execution_count": 45,
      "outputs": []
    },
    {
      "cell_type": "code",
      "source": [
        "model = RandomForestRegressor(n_estimators=100, random_state=23)\n",
        "model.fit(X_train,y_train)"
      ],
      "metadata": {
        "id": "4nbJQh4gsJSl",
        "colab": {
          "base_uri": "https://localhost:8080/",
          "height": 74
        },
        "outputId": "9d448a39-3132-4a0e-fc67-57ebfc8e9add"
      },
      "execution_count": 46,
      "outputs": [
        {
          "output_type": "execute_result",
          "data": {
            "text/plain": [
              "RandomForestRegressor(random_state=23)"
            ],
            "text/html": [
              "<style>#sk-container-id-1 {color: black;background-color: white;}#sk-container-id-1 pre{padding: 0;}#sk-container-id-1 div.sk-toggleable {background-color: white;}#sk-container-id-1 label.sk-toggleable__label {cursor: pointer;display: block;width: 100%;margin-bottom: 0;padding: 0.3em;box-sizing: border-box;text-align: center;}#sk-container-id-1 label.sk-toggleable__label-arrow:before {content: \"▸\";float: left;margin-right: 0.25em;color: #696969;}#sk-container-id-1 label.sk-toggleable__label-arrow:hover:before {color: black;}#sk-container-id-1 div.sk-estimator:hover label.sk-toggleable__label-arrow:before {color: black;}#sk-container-id-1 div.sk-toggleable__content {max-height: 0;max-width: 0;overflow: hidden;text-align: left;background-color: #f0f8ff;}#sk-container-id-1 div.sk-toggleable__content pre {margin: 0.2em;color: black;border-radius: 0.25em;background-color: #f0f8ff;}#sk-container-id-1 input.sk-toggleable__control:checked~div.sk-toggleable__content {max-height: 200px;max-width: 100%;overflow: auto;}#sk-container-id-1 input.sk-toggleable__control:checked~label.sk-toggleable__label-arrow:before {content: \"▾\";}#sk-container-id-1 div.sk-estimator input.sk-toggleable__control:checked~label.sk-toggleable__label {background-color: #d4ebff;}#sk-container-id-1 div.sk-label input.sk-toggleable__control:checked~label.sk-toggleable__label {background-color: #d4ebff;}#sk-container-id-1 input.sk-hidden--visually {border: 0;clip: rect(1px 1px 1px 1px);clip: rect(1px, 1px, 1px, 1px);height: 1px;margin: -1px;overflow: hidden;padding: 0;position: absolute;width: 1px;}#sk-container-id-1 div.sk-estimator {font-family: monospace;background-color: #f0f8ff;border: 1px dotted black;border-radius: 0.25em;box-sizing: border-box;margin-bottom: 0.5em;}#sk-container-id-1 div.sk-estimator:hover {background-color: #d4ebff;}#sk-container-id-1 div.sk-parallel-item::after {content: \"\";width: 100%;border-bottom: 1px solid gray;flex-grow: 1;}#sk-container-id-1 div.sk-label:hover label.sk-toggleable__label {background-color: #d4ebff;}#sk-container-id-1 div.sk-serial::before {content: \"\";position: absolute;border-left: 1px solid gray;box-sizing: border-box;top: 0;bottom: 0;left: 50%;z-index: 0;}#sk-container-id-1 div.sk-serial {display: flex;flex-direction: column;align-items: center;background-color: white;padding-right: 0.2em;padding-left: 0.2em;position: relative;}#sk-container-id-1 div.sk-item {position: relative;z-index: 1;}#sk-container-id-1 div.sk-parallel {display: flex;align-items: stretch;justify-content: center;background-color: white;position: relative;}#sk-container-id-1 div.sk-item::before, #sk-container-id-1 div.sk-parallel-item::before {content: \"\";position: absolute;border-left: 1px solid gray;box-sizing: border-box;top: 0;bottom: 0;left: 50%;z-index: -1;}#sk-container-id-1 div.sk-parallel-item {display: flex;flex-direction: column;z-index: 1;position: relative;background-color: white;}#sk-container-id-1 div.sk-parallel-item:first-child::after {align-self: flex-end;width: 50%;}#sk-container-id-1 div.sk-parallel-item:last-child::after {align-self: flex-start;width: 50%;}#sk-container-id-1 div.sk-parallel-item:only-child::after {width: 0;}#sk-container-id-1 div.sk-dashed-wrapped {border: 1px dashed gray;margin: 0 0.4em 0.5em 0.4em;box-sizing: border-box;padding-bottom: 0.4em;background-color: white;}#sk-container-id-1 div.sk-label label {font-family: monospace;font-weight: bold;display: inline-block;line-height: 1.2em;}#sk-container-id-1 div.sk-label-container {text-align: center;}#sk-container-id-1 div.sk-container {/* jupyter's `normalize.less` sets `[hidden] { display: none; }` but bootstrap.min.css set `[hidden] { display: none !important; }` so we also need the `!important` here to be able to override the default hidden behavior on the sphinx rendered scikit-learn.org. See: https://github.com/scikit-learn/scikit-learn/issues/21755 */display: inline-block !important;position: relative;}#sk-container-id-1 div.sk-text-repr-fallback {display: none;}</style><div id=\"sk-container-id-1\" class=\"sk-top-container\"><div class=\"sk-text-repr-fallback\"><pre>RandomForestRegressor(random_state=23)</pre><b>In a Jupyter environment, please rerun this cell to show the HTML representation or trust the notebook. <br />On GitHub, the HTML representation is unable to render, please try loading this page with nbviewer.org.</b></div><div class=\"sk-container\" hidden><div class=\"sk-item\"><div class=\"sk-estimator sk-toggleable\"><input class=\"sk-toggleable__control sk-hidden--visually\" id=\"sk-estimator-id-1\" type=\"checkbox\" checked><label for=\"sk-estimator-id-1\" class=\"sk-toggleable__label sk-toggleable__label-arrow\">RandomForestRegressor</label><div class=\"sk-toggleable__content\"><pre>RandomForestRegressor(random_state=23)</pre></div></div></div></div></div>"
            ]
          },
          "metadata": {},
          "execution_count": 46
        }
      ]
    },
    {
      "cell_type": "markdown",
      "source": [
        "We can validate the fitted model on the test set."
      ],
      "metadata": {
        "id": "hcpAbDubsM7k"
      }
    },
    {
      "cell_type": "code",
      "source": [
        "predictions = model.predict(X_test)\n",
        "np.corrcoef(y_test,predictions)[0][1]"
      ],
      "metadata": {
        "id": "_71yH7DgsMdi",
        "colab": {
          "base_uri": "https://localhost:8080/"
        },
        "outputId": "420dfed6-6352-470b-aead-085f81b3db15"
      },
      "execution_count": 47,
      "outputs": [
        {
          "output_type": "execute_result",
          "data": {
            "text/plain": [
              "0.7923960814760643"
            ]
          },
          "metadata": {},
          "execution_count": 47
        }
      ]
    },
    {
      "cell_type": "markdown",
      "source": [
        "We can test the model on the whole dataset now."
      ],
      "metadata": {
        "id": "eObk5nhBseOg"
      }
    },
    {
      "cell_type": "code",
      "source": [
        "predictions = model.predict(X)\n",
        "np.corrcoef(y,predictions)[0][1]"
      ],
      "metadata": {
        "id": "cUbvqYofsiMq",
        "colab": {
          "base_uri": "https://localhost:8080/"
        },
        "outputId": "088b4587-d301-4fdc-f9bb-58edecbb3f6c"
      },
      "execution_count": 48,
      "outputs": [
        {
          "output_type": "execute_result",
          "data": {
            "text/plain": [
              "0.9203675134197622"
            ]
          },
          "metadata": {},
          "execution_count": 48
        }
      ]
    },
    {
      "cell_type": "markdown",
      "source": [
        "This is excellent performance for a model that hasn't had its hyperparameters tuned!"
      ],
      "metadata": {
        "id": "R0VsS8aysWM-"
      }
    },
    {
      "cell_type": "code",
      "source": [
        "plt.scatter(predictions,y)\n",
        "plt.xlabel(\"Model prediction\")\n",
        "plt.ylabel(\"Experimental expression\");"
      ],
      "metadata": {
        "id": "2Ndt8H5_zN27",
        "colab": {
          "base_uri": "https://localhost:8080/",
          "height": 449
        },
        "outputId": "44296c39-b754-4179-9edf-cfb293b800d4"
      },
      "execution_count": 49,
      "outputs": [
        {
          "output_type": "display_data",
          "data": {
            "text/plain": [
              "<Figure size 640x480 with 1 Axes>"
            ],
            "image/png": "[encoded data removed]"
          },
          "metadata": {}
        }
      ]
    },
    {
      "cell_type": "markdown",
      "source": [
        "We can also examine the features that the model deemed were important."
      ],
      "metadata": {
        "id": "CFV6cA-iuCqI"
      }
    },
    {
      "cell_type": "code",
      "source": [
        "for i in range(len(X.columns)):\n",
        "  print(f\"{model.feature_importances_[i]} - {X.columns[i]}\")"
      ],
      "metadata": {
        "id": "POoV5RvHuHBr",
        "colab": {
          "base_uri": "https://localhost:8080/"
        },
        "outputId": "f28dff68-bdc2-4a27-f270-78fc9680e8cf"
      },
      "execution_count": 50,
      "outputs": [
        {
          "output_type": "stream",
          "name": "stdout",
          "text": [
            "0.5097181017016925 - Binding energy\n",
            "0.035906817262025804 - Spacing\n",
            "0.07165546235204988 - AU score\n",
            "0.05983490630997592 - Accessibility score\n",
            "0.22156736557834925 - Folding energy\n",
            "0.03592891281625742 - Standby gap\n",
            "0.017482524179110046 - Standby accessibility\n",
            "0.04790590980053921 - Codon score\n"
          ]
        }
      ]
    },
    {
      "cell_type": "markdown",
      "source": [
        "`Binding energy` and `Folding energy` seem to be the most important factors while determining the expression level."
      ],
      "metadata": {
        "id": "xqBAvIGFw1Tx"
      }
    },
    {
      "cell_type": "markdown",
      "source": [
        "To get the best out of our model, we will retrain it on the whole dataset."
      ],
      "metadata": {
        "id": "yRpWcu2eyV5R"
      }
    },
    {
      "cell_type": "code",
      "source": [
        "model.fit(X,y);"
      ],
      "metadata": {
        "id": "VthGkO7DyVcg"
      },
      "execution_count": 51,
      "outputs": []
    },
    {
      "cell_type": "markdown",
      "source": [
        "We can now test it on another dataset to get a true measure of its performance."
      ],
      "metadata": {
        "id": "wryBgLPeyjvB"
      }
    },
    {
      "cell_type": "markdown",
      "source": [
        "# Dataset for model testing"
      ],
      "metadata": {
        "id": "3qjgGOpKyqTO"
      }
    },
    {
      "cell_type": "markdown",
      "source": [
        "We use a dataset of 1014 mRNA sequences from [Reis and Salis (2020)](https://doi.org/10.1021/acssynbio.0c00394) to test our model. This dataset includes sequences from the training dataset, as well as new sequences."
      ],
      "metadata": {
        "id": "EpAG24Ac3413"
      }
    },
    {
      "cell_type": "code",
      "source": [
        "test_df = pd.read_csv(\"/Dataset - Reis and Salis - 1014.csv\")"
      ],
      "metadata": {
        "id": "1ULBTKgEWRES"
      },
      "execution_count": 52,
      "outputs": []
    },
    {
      "cell_type": "code",
      "source": [
        "test_df.head()"
      ],
      "metadata": {
        "id": "MYFoUje3WTy-",
        "colab": {
          "base_uri": "https://localhost:8080/",
          "height": 547
        },
        "outputId": "45499ab0-e088-42fa-93d2-a161aee5f152"
      },
      "execution_count": 53,
      "outputs": [
        {
          "output_type": "execute_result",
          "data": {
            "text/plain": [
              "                Reference Reporter                         Bacterial species  \\\n",
              "0  EspahBorujeni_NAR_2013      RFP  Escherichia coli str. K-12 substr. DH10B   \n",
              "1  EspahBorujeni_NAR_2013      RFP  Escherichia coli str. K-12 substr. DH10B   \n",
              "2  EspahBorujeni_NAR_2013      RFP  Escherichia coli str. K-12 substr. DH10B   \n",
              "3  EspahBorujeni_NAR_2013      RFP  Escherichia coli str. K-12 substr. DH10B   \n",
              "4  EspahBorujeni_NAR_2013      RFP  Escherichia coli str. K-12 substr. DH10B   \n",
              "\n",
              "  Gram stain  Temperature       rRNA  \\\n",
              "0   Negative           37  ACCTCCTTA   \n",
              "1   Negative           37  ACCTCCTTA   \n",
              "2   Negative           37  ACCTCCTTA   \n",
              "3   Negative           37  ACCTCCTTA   \n",
              "4   Negative           37  ACCTCCTTA   \n",
              "\n",
              "                                                 RBS  \\\n",
              "0  TCTAGAGGCCGACGCAAGCCCATATCGGGGCTTCCGTCGGCCATAA...   \n",
              "1  TCTAGAGGCCGACGCAAGCCCATATCGGGGCTTCCGTCGGCCAATA...   \n",
              "2  TCTAGAGGCCGACGCAAGCCCATATCGGGGCTTCCGTCGGCCAAAT...   \n",
              "3  TCTAGAGGCCGACGCAAGCCCATATCGGGGCTTCCGTCGGCCAAAA...   \n",
              "4  TCTAGAGGCCGACGCAAGCCCATATCGGGGCTTCCGTCGGCCAAAA...   \n",
              "\n",
              "                                                 CDS  Mean expression  \n",
              "0  ATGgcGAGCTCtgaagacgttatcaaagagttcatgcgtttcaaag...       279.362222  \n",
              "1  ATGgcGAGCTCtgaagacgttatcaaagagttcatgcgtttcaaag...       700.137712  \n",
              "2  ATGgcGAGCTCtgaagacgttatcaaagagttcatgcgtttcaaag...       958.882321  \n",
              "3  ATGgcGAGCTCtgaagacgttatcaaagagttcatgcgtttcaaag...      3037.856308  \n",
              "4  ATGgcGAGCTCtgaagacgttatcaaagagttcatgcgtttcaaag...      8127.452151  "
            ],
            "text/html": [
              "\n",
              "  <div id=\"df-984feea1-4006-4a1c-b438-c2fcac54160f\">\n",
              "    <div class=\"colab-df-container\">\n",
              "      <div>\n",
              "<style scoped>\n",
              "    .dataframe tbody tr th:only-of-type {\n",
              "        vertical-align: middle;\n",
              "    }\n",
              "\n",
              "    .dataframe tbody tr th {\n",
              "        vertical-align: top;\n",
              "    }\n",
              "\n",
              "    .dataframe thead th {\n",
              "        text-align: right;\n",
              "    }\n",
              "</style>\n",
              "<table border=\"1\" class=\"dataframe\">\n",
              "  <thead>\n",
              "    <tr style=\"text-align: right;\">\n",
              "      <th></th>\n",
              "      <th>Reference</th>\n",
              "      <th>Reporter</th>\n",
              "      <th>Bacterial species</th>\n",
              "      <th>Gram stain</th>\n",
              "      <th>Temperature</th>\n",
              "      <th>rRNA</th>\n",
              "      <th>RBS</th>\n",
              "      <th>CDS</th>\n",
              "      <th>Mean expression</th>\n",
              "    </tr>\n",
              "  </thead>\n",
              "  <tbody>\n",
              "    <tr>\n",
              "      <th>0</th>\n",
              "      <td>EspahBorujeni_NAR_2013</td>\n",
              "      <td>RFP</td>\n",
              "      <td>Escherichia coli str. K-12 substr. DH10B</td>\n",
              "      <td>Negative</td>\n",
              "      <td>37</td>\n",
              "      <td>ACCTCCTTA</td>\n",
              "      <td>TCTAGAGGCCGACGCAAGCCCATATCGGGGCTTCCGTCGGCCATAA...</td>\n",
              "      <td>ATGgcGAGCTCtgaagacgttatcaaagagttcatgcgtttcaaag...</td>\n",
              "      <td>279.362222</td>\n",
              "    </tr>\n",
              "    <tr>\n",
              "      <th>1</th>\n",
              "      <td>EspahBorujeni_NAR_2013</td>\n",
              "      <td>RFP</td>\n",
              "      <td>Escherichia coli str. K-12 substr. DH10B</td>\n",
              "      <td>Negative</td>\n",
              "      <td>37</td>\n",
              "      <td>ACCTCCTTA</td>\n",
              "      <td>TCTAGAGGCCGACGCAAGCCCATATCGGGGCTTCCGTCGGCCAATA...</td>\n",
              "      <td>ATGgcGAGCTCtgaagacgttatcaaagagttcatgcgtttcaaag...</td>\n",
              "      <td>700.137712</td>\n",
              "    </tr>\n",
              "    <tr>\n",
              "      <th>2</th>\n",
              "      <td>EspahBorujeni_NAR_2013</td>\n",
              "      <td>RFP</td>\n",
              "      <td>Escherichia coli str. K-12 substr. DH10B</td>\n",
              "      <td>Negative</td>\n",
              "      <td>37</td>\n",
              "      <td>ACCTCCTTA</td>\n",
              "      <td>TCTAGAGGCCGACGCAAGCCCATATCGGGGCTTCCGTCGGCCAAAT...</td>\n",
              "      <td>ATGgcGAGCTCtgaagacgttatcaaagagttcatgcgtttcaaag...</td>\n",
              "      <td>958.882321</td>\n",
              "    </tr>\n",
              "    <tr>\n",
              "      <th>3</th>\n",
              "      <td>EspahBorujeni_NAR_2013</td>\n",
              "      <td>RFP</td>\n",
              "      <td>Escherichia coli str. K-12 substr. DH10B</td>\n",
              "      <td>Negative</td>\n",
              "      <td>37</td>\n",
              "      <td>ACCTCCTTA</td>\n",
              "      <td>TCTAGAGGCCGACGCAAGCCCATATCGGGGCTTCCGTCGGCCAAAA...</td>\n",
              "      <td>ATGgcGAGCTCtgaagacgttatcaaagagttcatgcgtttcaaag...</td>\n",
              "      <td>3037.856308</td>\n",
              "    </tr>\n",
              "    <tr>\n",
              "      <th>4</th>\n",
              "      <td>EspahBorujeni_NAR_2013</td>\n",
              "      <td>RFP</td>\n",
              "      <td>Escherichia coli str. K-12 substr. DH10B</td>\n",
              "      <td>Negative</td>\n",
              "      <td>37</td>\n",
              "      <td>ACCTCCTTA</td>\n",
              "      <td>TCTAGAGGCCGACGCAAGCCCATATCGGGGCTTCCGTCGGCCAAAA...</td>\n",
              "      <td>ATGgcGAGCTCtgaagacgttatcaaagagttcatgcgtttcaaag...</td>\n",
              "      <td>8127.452151</td>\n",
              "    </tr>\n",
              "  </tbody>\n",
              "</table>\n",
              "</div>\n",
              "      <button class=\"colab-df-convert\" onclick=\"convertToInteractive('df-984feea1-4006-4a1c-b438-c2fcac54160f')\"\n",
              "              title=\"Convert this dataframe to an interactive table.\"\n",
              "              style=\"display:none;\">\n",
              "        \n",
              "  <svg xmlns=\"http://www.w3.org/2000/svg\" height=\"24px\"viewBox=\"0 0 24 24\"\n",
              "       width=\"24px\">\n",
              "    <path d=\"M0 0h24v24H0V0z\" fill=\"none\"/>\n",
              "    <path d=\"M18.56 5.44l.94 2.06.94-2.06 2.06-.94-2.06-.94-.94-2.06-.94 2.06-2.06.94zm-11 1L8.5 8.5l.94-2.06 2.06-.94-2.06-.94L8.5 2.5l-.94 2.06-2.06.94zm10 10l.94 2.06.94-2.06 2.06-.94-2.06-.94-.94-2.06-.94 2.06-2.06.94z\"/><path d=\"M17.41 7.96l-1.37-1.37c-.4-.4-.92-.59-1.43-.59-.52 0-1.04.2-1.43.59L10.3 9.45l-7.72 7.72c-.78.78-.78 2.05 0 2.83L4 21.41c.39.39.9.59 1.41.59.51 0 1.02-.2 1.41-.59l7.78-7.78 2.81-2.81c.8-.78.8-2.07 0-2.86zM5.41 20L4 18.59l7.72-7.72 1.47 1.35L5.41 20z\"/>\n",
              "  </svg>\n",
              "      </button>\n",
              "      \n",
              "  <style>\n",
              "    .colab-df-container {\n",
              "      display:flex;\n",
              "      flex-wrap:wrap;\n",
              "      gap: 12px;\n",
              "    }\n",
              "\n",
              "    .colab-df-convert {\n",
              "      background-color: #E8F0FE;\n",
              "      border: none;\n",
              "      border-radius: 50%;\n",
              "      cursor: pointer;\n",
              "      display: none;\n",
              "      fill: #1967D2;\n",
              "      height: 32px;\n",
              "      padding: 0 0 0 0;\n",
              "      width: 32px;\n",
              "    }\n",
              "\n",
              "    .colab-df-convert:hover {\n",
              "      background-color: #E2EBFA;\n",
              "      box-shadow: 0px 1px 2px rgba(60, 64, 67, 0.3), 0px 1px 3px 1px rgba(60, 64, 67, 0.15);\n",
              "      fill: #174EA6;\n",
              "    }\n",
              "\n",
              "    [theme=dark] .colab-df-convert {\n",
              "      background-color: #3B4455;\n",
              "      fill: #D2E3FC;\n",
              "    }\n",
              "\n",
              "    [theme=dark] .colab-df-convert:hover {\n",
              "      background-color: #434B5C;\n",
              "      box-shadow: 0px 1px 3px 1px rgba(0, 0, 0, 0.15);\n",
              "      filter: drop-shadow(0px 1px 2px rgba(0, 0, 0, 0.3));\n",
              "      fill: #FFFFFF;\n",
              "    }\n",
              "  </style>\n",
              "\n",
              "      <script>\n",
              "        const buttonEl =\n",
              "          document.querySelector('#df-984feea1-4006-4a1c-b438-c2fcac54160f button.colab-df-convert');\n",
              "        buttonEl.style.display =\n",
              "          google.colab.kernel.accessAllowed ? 'block' : 'none';\n",
              "\n",
              "        async function convertToInteractive(key) {\n",
              "          const element = document.querySelector('#df-984feea1-4006-4a1c-b438-c2fcac54160f');\n",
              "          const dataTable =\n",
              "            await google.colab.kernel.invokeFunction('convertToInteractive',\n",
              "                                                     [key], {});\n",
              "          if (!dataTable) return;\n",
              "\n",
              "          const docLinkHtml = 'Like what you see? Visit the ' +\n",
              "            '<a target=\"_blank\" href=https://colab.research.google.com/notebooks/data_table.ipynb>data table notebook</a>'\n",
              "            + ' to learn more about interactive tables.';\n",
              "          element.innerHTML = '';\n",
              "          dataTable['output_type'] = 'display_data';\n",
              "          await google.colab.output.renderOutput(dataTable, element);\n",
              "          const docLink = document.createElement('div');\n",
              "          docLink.innerHTML = docLinkHtml;\n",
              "          element.appendChild(docLink);\n",
              "        }\n",
              "      </script>\n",
              "    </div>\n",
              "  </div>\n",
              "  "
            ]
          },
          "metadata": {},
          "execution_count": 53
        }
      ]
    },
    {
      "cell_type": "markdown",
      "source": [
        "We perform the same preprocessing tasks as we did with the training dataset."
      ],
      "metadata": {
        "id": "DljRhDz64OOW"
      }
    },
    {
      "cell_type": "code",
      "source": [
        "test_df[\"rRNA\"] = test_df[\"rRNA\"].apply(lambda x: x.upper().replace(\"T\",\"U\"))\n",
        "test_df[\"RBS\"] = test_df[\"RBS\"].apply(lambda x: x.upper().replace(\"T\",\"U\"))\n",
        "test_df[\"CDS\"] = test_df[\"CDS\"].apply(lambda x: x.upper().replace(\"T\",\"U\"))\n",
        "test_df[\"rRNA\"] = test_df[\"rRNA\"].apply(lambda x: x[-8:])\n",
        "test_df[\"Mean expression\"] = test_df[\"Mean expression\"].apply(lambda x: np.log10(x))"
      ],
      "metadata": {
        "id": "AUwOBkXnbIMb"
      },
      "execution_count": 54,
      "outputs": []
    },
    {
      "cell_type": "markdown",
      "source": [
        "We calculate the necessary parameters for our model to use and predict expression levels"
      ],
      "metadata": {
        "id": "GhAllNaE4Sc-"
      }
    },
    {
      "cell_type": "code",
      "source": [
        "test_df[\"Binding energy\"], test_df[\"Shine-Dalgarno\"], test_df[\"Spacing\"] = find_spacing(test_df[\"rRNA\"],test_df[\"RBS\"],test_df[\"Temperature\"],test_df[\"Gram stain\"])\n",
        "test_df[\"AU score\"] = find_au_score(test_df[\"RBS\"],test_df[\"Shine-Dalgarno\"])\n",
        "test_df[\"Structure\"], test_df[\"Accessibility score\"], test_df[\"Folding energy\"] = find_accessibility_score(test_df[\"RBS\"],test_df[\"CDS\"],test_df[\"Shine-Dalgarno\"],test_df[\"Temperature\"])\n",
        "test_df[\"Standby gap\"], test_df[\"Standby accessibility\"] = find_standby_score(test_df[\"RBS\"],test_df[\"Structure\"])\n",
        "test_df[\"Codon score\"] = test_df[\"CDS\"].apply(find_codon_score)"
      ],
      "metadata": {
        "id": "8zyKJgthWqRq"
      },
      "execution_count": 55,
      "outputs": []
    },
    {
      "cell_type": "markdown",
      "source": [
        "We can then test our model on this dataset."
      ],
      "metadata": {
        "id": "FZsS0aXo4Ynw"
      }
    },
    {
      "cell_type": "code",
      "source": [
        "test_X = test_df[[\"Binding energy\",\"Spacing\",\"AU score\",\"Accessibility score\",\"Folding energy\",\"Standby gap\",\"Standby accessibility\",\"Codon score\"]]\n",
        "test_y = test_df[\"Mean expression\"]"
      ],
      "metadata": {
        "id": "vWVNjpFGYRTp"
      },
      "execution_count": 56,
      "outputs": []
    },
    {
      "cell_type": "code",
      "source": [
        "test_predictions = model.predict(test_X)\n",
        "np.corrcoef(test_y,test_predictions)[0][1]"
      ],
      "metadata": {
        "id": "Wre9-BJOaKgN",
        "colab": {
          "base_uri": "https://localhost:8080/"
        },
        "outputId": "339c6bab-6ef1-4da9-a10b-2a71a8075295"
      },
      "execution_count": 57,
      "outputs": [
        {
          "output_type": "execute_result",
          "data": {
            "text/plain": [
              "0.7883381275985868"
            ]
          },
          "metadata": {},
          "execution_count": 57
        }
      ]
    },
    {
      "cell_type": "markdown",
      "source": [
        "Our model's predictions achieve a very good correlation with the experimental data.\n",
        "\n",
        "[Reis and Salis (2020)](https://doi.org/10.1021/acssynbio.0c00394) compared the performance of existing models on this dataset. The best performer was their own [RBS Calculator v2.1](https://salislab.net/software/predict_rbs_calculator), which achieved an R² of 0.76."
      ],
      "metadata": {
        "id": "gx7snYR44ear"
      }
    },
    {
      "cell_type": "markdown",
      "source": [
        "Finally, we retrain our model on the entire dataset of 1014 sequences to boost its performance."
      ],
      "metadata": {
        "id": "3wkkD_wk5GX3"
      }
    },
    {
      "cell_type": "code",
      "source": [
        "model.fit(test_X,test_y)\n",
        "test_predictions = model.predict(test_X)\n",
        "np.corrcoef(test_y,test_predictions)[0][1]"
      ],
      "metadata": {
        "id": "2uAbAxrK5Oas",
        "colab": {
          "base_uri": "https://localhost:8080/"
        },
        "outputId": "fcc6ae4e-7bc6-4d52-f94d-b0b966c1b2d7"
      },
      "execution_count": 58,
      "outputs": [
        {
          "output_type": "execute_result",
          "data": {
            "text/plain": [
              "0.9557595432371457"
            ]
          },
          "metadata": {},
          "execution_count": 58
        }
      ]
    },
    {
      "cell_type": "code",
      "source": [
        "plt.scatter(test_predictions,test_y)\n",
        "plt.xlabel(\"Model prediction\")\n",
        "plt.ylabel(\"Experimental expression\");"
      ],
      "metadata": {
        "id": "xbNrOwpq5oo2",
        "colab": {
          "base_uri": "https://localhost:8080/",
          "height": 449
        },
        "outputId": "9eabc5cf-24fb-4ca9-b8be-468f76a98c33"
      },
      "execution_count": 59,
      "outputs": [
        {
          "output_type": "display_data",
          "data": {
            "text/plain": [
              "<Figure size 640x480 with 1 Axes>"
            ],
            "image/png": "[encoded data removed]"
          },
          "metadata": {}
        }
      ]
    },
    {
      "cell_type": "markdown",
      "source": [
        "With that, we have a working model to predict the expression level of a given mRNA sequence!"
      ],
      "metadata": {
        "id": "HOt1sbk-5Xwl"
      }
    },
    {
      "cell_type": "markdown",
      "source": [
        "# Further testing"
      ],
      "metadata": {
        "id": "dzAHMGLh6qyg"
      }
    },
    {
      "cell_type": "markdown",
      "source": [
        "We will test our model on a dataset of 16779 mRNA sequences (from [Reis and Salis (2020)](https://doi.org/10.1021/acssynbio.0c00394)) characterized by FlowSeq. The RBS Calculator achieves an R² of 0.17 on this dataset."
      ],
      "metadata": {
        "id": "EX8Mng3a99eE"
      }
    },
    {
      "cell_type": "code",
      "source": [
        "flowseq = pd.read_csv(\"/Dataset - Reis and Salis - 16779.csv\")"
      ],
      "metadata": {
        "id": "Y8cffFuy6s41"
      },
      "execution_count": 60,
      "outputs": []
    },
    {
      "cell_type": "code",
      "source": [
        "len(flowseq)"
      ],
      "metadata": {
        "id": "UlJSa2i1bf2d",
        "colab": {
          "base_uri": "https://localhost:8080/"
        },
        "outputId": "6a71d78c-65f6-424b-9bbe-8df5017c9647"
      },
      "execution_count": 61,
      "outputs": [
        {
          "output_type": "execute_result",
          "data": {
            "text/plain": [
              "16779"
            ]
          },
          "metadata": {},
          "execution_count": 61
        }
      ]
    },
    {
      "cell_type": "code",
      "source": [
        "flowseq[\"rRNA\"] = flowseq[\"rRNA\"].apply(lambda x: x.upper().replace(\"T\",\"U\"))\n",
        "flowseq[\"RBS\"] = flowseq[\"RBS\"].apply(lambda x: x.upper().replace(\"T\",\"U\"))\n",
        "flowseq[\"CDS\"] = flowseq[\"CDS\"].apply(lambda x: x.upper().replace(\"T\",\"U\"))\n",
        "flowseq[\"rRNA\"] = flowseq[\"rRNA\"].apply(lambda x: x[-8:])\n",
        "flowseq[\"Mean expression\"] = flowseq[\"Mean expression\"].apply(lambda x: np.log10(x))"
      ],
      "metadata": {
        "id": "joUvuLAf7IhE"
      },
      "execution_count": 62,
      "outputs": []
    },
    {
      "cell_type": "code",
      "source": [
        "flowseq[\"Binding energy\"], flowseq[\"Shine-Dalgarno\"], flowseq[\"Spacing\"] = find_spacing(flowseq[\"rRNA\"],flowseq[\"RBS\"],flowseq[\"Temperature\"],flowseq[\"Gram stain\"])\n",
        "flowseq[\"AU score\"] = find_au_score(flowseq[\"RBS\"],flowseq[\"Shine-Dalgarno\"])\n",
        "flowseq[\"Structure\"], flowseq[\"Accessibility score\"], flowseq[\"Folding energy\"] = find_accessibility_score(flowseq[\"RBS\"],flowseq[\"CDS\"],flowseq[\"Shine-Dalgarno\"],flowseq[\"Temperature\"])\n",
        "flowseq[\"Standby gap\"], flowseq[\"Standby accessibility\"] = find_standby_score(flowseq[\"RBS\"],flowseq[\"Structure\"])\n",
        "flowseq[\"Codon score\"] = flowseq[\"CDS\"].apply(find_codon_score)"
      ],
      "metadata": {
        "id": "GLGvFqf07R6m"
      },
      "execution_count": 63,
      "outputs": []
    },
    {
      "cell_type": "code",
      "source": [
        "X = flowseq[[\"Binding energy\",\"Spacing\",\"AU score\",\"Accessibility score\",\"Folding energy\",\"Standby gap\",\"Standby accessibility\",\"Codon score\"]]\n",
        "y = flowseq[\"Mean expression\"]\n",
        "p = model.predict(X)\n",
        "np.corrcoef(y,p)[0][1]"
      ],
      "metadata": {
        "id": "dOVOWHTt7k97",
        "colab": {
          "base_uri": "https://localhost:8080/"
        },
        "outputId": "437fd2b5-8792-4df5-9823-0b70164576d4"
      },
      "execution_count": 64,
      "outputs": [
        {
          "output_type": "execute_result",
          "data": {
            "text/plain": [
              "0.5372845355864897"
            ]
          },
          "metadata": {},
          "execution_count": 64
        }
      ]
    }
  ]
}